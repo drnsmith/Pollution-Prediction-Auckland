{
 "cells": [
  {
   "cell_type": "code",
   "execution_count": null,
   "id": "413339f4",
   "metadata": {},
   "outputs": [],
   "source": []
  },
  {
   "cell_type": "code",
   "execution_count": null,
   "id": "55fbc480",
   "metadata": {},
   "outputs": [],
   "source": []
  },
  {
   "cell_type": "code",
   "execution_count": null,
   "id": "dea95f25",
   "metadata": {},
   "outputs": [],
   "source": []
  },
  {
   "cell_type": "code",
   "execution_count": null,
   "id": "8a31325b",
   "metadata": {},
   "outputs": [],
   "source": []
  },
  {
   "cell_type": "code",
   "execution_count": null,
   "id": "6cfbc5c6",
   "metadata": {},
   "outputs": [],
   "source": []
  },
  {
   "cell_type": "code",
   "execution_count": null,
   "id": "00a6c751",
   "metadata": {},
   "outputs": [],
   "source": [
    "import numpy as np\n",
    "import pandas as pd\n",
    "from tensorflow.keras.models import Sequential\n",
    "from tensorflow.keras.layers import LSTM, Dense\n",
    "from tensorflow.keras.optimizers import Adam\n",
    "import matplotlib.pyplot as plt\n",
    "\n",
    "# Load and preprocess the dataset\n",
    "# Assuming your dataset is stored in a DataFrame called 'data'\n",
    "# Split the data into training and testing sets\n",
    "\n",
    "# Define the LSTM model\n",
    "model = Sequential()\n",
    "model.add(LSTM(64, input_shape=(num_timesteps, num_features)))\n",
    "model.add(Dense(1))\n",
    "\n",
    "# Compile the model\n",
    "model.compile(optimizer=Adam(learning_rate=0.01), loss='mean_squared_error')\n",
    "\n",
    "# Train the model for multiple epochs\n",
    "num_epochs = 30\n",
    "train_loss = []\n",
    "test_loss = []\n",
    "\n",
    "for epoch in range(num_epochs):\n",
    "    # Train the model on the training data\n",
    "    history = model.fit(X_train, y_train, epochs=1, batch_size=4, verbose=0)\n",
    "    \n",
    "    # Calculate the cost function scores for training and testing data\n",
    "    train_loss.append(history.history['loss'][0])\n",
    "    test_loss.append(model.evaluate(X_test, y_test, verbose=0))\n",
    "    \n",
    "    # Print the epoch number and cost function score\n",
    "    print(f\"Epoch {epoch+1}: Train Loss = {train_loss[-1]}, Test Loss = {test_loss[-1]}\")\n",
    "\n",
    "# Plot the cost function scores for each epoch\n",
    "plt.plot(range(1, num_epochs+1), train_loss, label='Train Loss')\n",
    "plt.plot(range(1, num_epochs+1), test_loss, label='Test Loss')\n",
    "plt.xlabel('Epoch')\n",
    "plt.ylabel('Loss')\n",
    "plt.legend()\n",
    "plt.show()\n",
    "\n",
    "# Calculate summary statistics\n",
    "train_loss_mean = np.mean(train_loss)\n",
    "train_loss_std = np.std(train_loss)\n",
    "train_loss_min = np.min(train_loss)\n",
    "train_loss_max = np.max(train_loss)\n",
    "\n",
    "test_loss_mean = np.mean(test_loss)\n",
    "test_loss_std = np.std(test_loss)\n",
    "test_loss_min = np.min(test_loss)\n",
    "test_loss_max = np.max(test_loss)\n",
    "\n",
    "print(\"Summary Statistics:\")\n",
    "print(f\"Train Loss - Mean: {train_loss_mean}, Std: {train_loss_std}, Min: {train_loss_min}, Max: {train_loss_max}\")\n",
    "print(f\"Test Loss - Mean: {test_loss_mean}, Std: {test_loss_std}, Min: {test_loss_min}, Max: {test_loss_max}\")\n"
   ]
  }
 ],
 "metadata": {
  "kernelspec": {
   "display_name": "Python 3 (ipykernel)",
   "language": "python",
   "name": "python3"
  },
  "language_info": {
   "codemirror_mode": {
    "name": "ipython",
    "version": 3
   },
   "file_extension": ".py",
   "mimetype": "text/x-python",
   "name": "python",
   "nbconvert_exporter": "python",
   "pygments_lexer": "ipython3",
   "version": "3.9.12"
  }
 },
 "nbformat": 4,
 "nbformat_minor": 5
}
